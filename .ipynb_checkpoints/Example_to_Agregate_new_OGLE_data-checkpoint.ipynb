{
 "cells": [
  {
   "cell_type": "code",
   "execution_count": 1,
   "id": "ac84f8f4",
   "metadata": {},
   "outputs": [],
   "source": [
    "import pandas as pd"
   ]
  },
  {
   "cell_type": "code",
   "execution_count": 2,
   "id": "3ee60fc4",
   "metadata": {},
   "outputs": [],
   "source": [
    "path = \"/home/nicolas/nico/Data/data_Paper_OGLE/\""
   ]
  },
  {
   "cell_type": "code",
   "execution_count": 43,
   "id": "5ca4526f",
   "metadata": {},
   "outputs": [],
   "source": [
    "ident_lmc = pd.read_csv(f\"{path}/catalogos/Nuevos_datos/ident_dsct_OGLE_4_LMC.dat\",delim_whitespace=True,names=[\"ID\",\"Subtype\",\"RA\",\"DEC\",\"field\",\"other\",\"a\",\"b\"])\n",
    "ident_smc = pd.read_csv(f\"{path}/catalogos/Nuevos_datos/ident_dsct_OGLE_4_SMC.dat\",delim_whitespace=True,names=[\"ID\",\"Subtype\",\"RA\",\"DEC\",\"field\",\"other\",\"a\",\"b\",\"c\"])"
   ]
  },
  {
   "cell_type": "code",
   "execution_count": 51,
   "id": "5901ab8a",
   "metadata": {},
   "outputs": [
    {
     "name": "stdout",
     "output_type": "stream",
     "text": [
      "True\n",
      "True\n"
     ]
    }
   ],
   "source": [
    "print(len(ident_smc.loc[(ident_smc[\"RA\"].str.len() !=11)|(ident_smc[\"DEC\"].str.len() !=11)]) == 0)\n",
    "print(len(ident_lmc.loc[(ident_lmc[\"RA\"].str.len() !=11)|(ident_lmc[\"DEC\"].str.len() !=11)]) == 0)"
   ]
  },
  {
   "cell_type": "code",
   "execution_count": 52,
   "id": "0e4f8aef",
   "metadata": {},
   "outputs": [],
   "source": [
    "star_info = [\n",
    "    \"ID\",\n",
    "    \"Intensity mean I-band magnitude\",\n",
    "    \"Intensity mean V-band magnitude\",\n",
    "    \"per\",\n",
    "    \"Uncertainty of primary period\",\n",
    "    \"Time of maximum brightness (HJD-2450000)\",\n",
    "    \"I-band amplitude (maximum-minimum)\",\n",
    "    \"Fourier coefficient R_21\",\n",
    "    \"Fourier coefficient phi_21\",\n",
    "    \"Fourier coefficient R_31\",\n",
    "    \"Fourier coefficient phi_31\",\n",
    "    \"Secondary period (if available)\",\n",
    "    \"Uncertainty of secondary period\",\n",
    "    \"aTime of maximum brightness (HJD-2450000)\",\n",
    "    \"aI-band amplitude (maximum-minimum)\",\n",
    "    \"Fourier coefficient R_21 (2)\",\n",
    "    \"Fourier coefficient phi_21 (2)\",\n",
    "    \"Fourier coefficient R_31 (2)\",\n",
    "    \"Fourier coefficient phi_31 (2)\",\n",
    "    \"Tertiary period (if available)\",\n",
    "    \"Uncertainty of tertiary period\",\n",
    "    \"Time of maximum brightness (HJD-2450000) (3)\",\n",
    "    \"I-band amplitude (maximum-minimum) (2)\",\n",
    "    \"Fourier coefficient R_21 (3)\",\n",
    "    \"Fourier coefficient phi_21 (3)\",\n",
    "    \"Fourier coefficient R_31 (3)\",\n",
    "    \"Fourier coefficient phi_31 (3)\"\n",
    "]\n"
   ]
  },
  {
   "cell_type": "code",
   "execution_count": 53,
   "id": "e9b9c501",
   "metadata": {},
   "outputs": [],
   "source": [
    "dsct_lmc = pd.read_csv(f\"{path}/catalogos/Nuevos_datos/dsct_OGLE_4_LMC.dat\",delim_whitespace=True,names=star_info)\n",
    "dsct_smc = pd.read_csv(f\"{path}/catalogos/Nuevos_datos/dsct_OGLE_4_SMC.dat\",delim_whitespace=True,names=star_info)"
   ]
  },
  {
   "cell_type": "code",
   "execution_count": 54,
   "id": "5b68ecc1",
   "metadata": {},
   "outputs": [],
   "source": [
    "ident_smc[\"types\"] = \"dsct\"\n",
    "ident_smc[\"database\"] = 4\n",
    "ident_smc[\"field\"] = \"smc\"\n",
    "\n",
    "\n",
    "ident_lmc[\"types\"] = \"dsct\"\n",
    "ident_lmc[\"database\"] = 4\n",
    "ident_lmc[\"field\"] = \"lmc\""
   ]
  },
  {
   "cell_type": "code",
   "execution_count": 55,
   "id": "3deae350",
   "metadata": {},
   "outputs": [],
   "source": [
    "dsct_lmc = dsct_lmc[[\"ID\",\"per\"]].merge(ident_lmc[[\"ID\",\"Subtype\",\"RA\",\"DEC\",\"types\",\"database\",\"field\"]],how=\"inner\",on=\"ID\")\n",
    "\n",
    "dsct_smc = dsct_smc[[\"ID\",\"per\"]].merge(ident_smc[[\"ID\",\"Subtype\",\"RA\",\"DEC\",\"types\",\"database\",\"field\"]],how=\"inner\",on=\"ID\")"
   ]
  },
  {
   "cell_type": "code",
   "execution_count": 61,
   "id": "c7f2d2b8",
   "metadata": {},
   "outputs": [],
   "source": [
    "catalog = pd.read_csv(f\"{path}catalogos/0_catalogo.csv\")"
   ]
  },
  {
   "cell_type": "code",
   "execution_count": 66,
   "id": "0dd0d1bb",
   "metadata": {},
   "outputs": [],
   "source": [
    "catalog = pd.concat([catalog,dsct_lmc,dsct_smc])"
   ]
  },
  {
   "cell_type": "code",
   "execution_count": 68,
   "id": "693bcfab",
   "metadata": {},
   "outputs": [
    {
     "data": {
      "text/html": [
       "<div>\n",
       "<style scoped>\n",
       "    .dataframe tbody tr th:only-of-type {\n",
       "        vertical-align: middle;\n",
       "    }\n",
       "\n",
       "    .dataframe tbody tr th {\n",
       "        vertical-align: top;\n",
       "    }\n",
       "\n",
       "    .dataframe thead th {\n",
       "        text-align: right;\n",
       "    }\n",
       "</style>\n",
       "<table border=\"1\" class=\"dataframe\">\n",
       "  <thead>\n",
       "    <tr style=\"text-align: right;\">\n",
       "      <th></th>\n",
       "      <th>ID</th>\n",
       "      <th>RA</th>\n",
       "      <th>DEC</th>\n",
       "      <th>types</th>\n",
       "      <th>database</th>\n",
       "      <th>Subtype</th>\n",
       "      <th>per</th>\n",
       "      <th>l</th>\n",
       "      <th>b</th>\n",
       "      <th>error</th>\n",
       "      <th>obs_total</th>\n",
       "      <th>numero_nans</th>\n",
       "      <th>e_mayor0.075</th>\n",
       "      <th>eyected_sigma</th>\n",
       "      <th>numero_final</th>\n",
       "      <th>amplitud</th>\n",
       "      <th>mag_mean</th>\n",
       "      <th>mag_median</th>\n",
       "      <th>err_mean</th>\n",
       "      <th>err_median</th>\n",
       "    </tr>\n",
       "    <tr>\n",
       "      <th>field</th>\n",
       "      <th></th>\n",
       "      <th></th>\n",
       "      <th></th>\n",
       "      <th></th>\n",
       "      <th></th>\n",
       "      <th></th>\n",
       "      <th></th>\n",
       "      <th></th>\n",
       "      <th></th>\n",
       "      <th></th>\n",
       "      <th></th>\n",
       "      <th></th>\n",
       "      <th></th>\n",
       "      <th></th>\n",
       "      <th></th>\n",
       "      <th></th>\n",
       "      <th></th>\n",
       "      <th></th>\n",
       "      <th></th>\n",
       "      <th></th>\n",
       "    </tr>\n",
       "  </thead>\n",
       "  <tbody>\n",
       "    <tr>\n",
       "      <th>blg</th>\n",
       "      <td>16812</td>\n",
       "      <td>16812</td>\n",
       "      <td>16812</td>\n",
       "      <td>16812</td>\n",
       "      <td>16812</td>\n",
       "      <td>16812</td>\n",
       "      <td>16812</td>\n",
       "      <td>16812</td>\n",
       "      <td>16812</td>\n",
       "      <td>16812</td>\n",
       "      <td>16812</td>\n",
       "      <td>16812</td>\n",
       "      <td>16812</td>\n",
       "      <td>16812</td>\n",
       "      <td>16812</td>\n",
       "      <td>16810</td>\n",
       "      <td>16810</td>\n",
       "      <td>16810</td>\n",
       "      <td>16810</td>\n",
       "      <td>16810</td>\n",
       "    </tr>\n",
       "    <tr>\n",
       "      <th>gd</th>\n",
       "      <td>7747</td>\n",
       "      <td>7747</td>\n",
       "      <td>7747</td>\n",
       "      <td>7747</td>\n",
       "      <td>7747</td>\n",
       "      <td>7747</td>\n",
       "      <td>7747</td>\n",
       "      <td>7747</td>\n",
       "      <td>7747</td>\n",
       "      <td>7747</td>\n",
       "      <td>7747</td>\n",
       "      <td>7747</td>\n",
       "      <td>7747</td>\n",
       "      <td>7747</td>\n",
       "      <td>7747</td>\n",
       "      <td>7747</td>\n",
       "      <td>7747</td>\n",
       "      <td>7747</td>\n",
       "      <td>7747</td>\n",
       "      <td>7747</td>\n",
       "    </tr>\n",
       "    <tr>\n",
       "      <th>lmc</th>\n",
       "      <td>18044</td>\n",
       "      <td>18044</td>\n",
       "      <td>18044</td>\n",
       "      <td>18044</td>\n",
       "      <td>18044</td>\n",
       "      <td>18044</td>\n",
       "      <td>18044</td>\n",
       "      <td>2788</td>\n",
       "      <td>2788</td>\n",
       "      <td>2788</td>\n",
       "      <td>2788</td>\n",
       "      <td>2788</td>\n",
       "      <td>2788</td>\n",
       "      <td>2788</td>\n",
       "      <td>2788</td>\n",
       "      <td>2087</td>\n",
       "      <td>2087</td>\n",
       "      <td>2087</td>\n",
       "      <td>2087</td>\n",
       "      <td>2087</td>\n",
       "    </tr>\n",
       "    <tr>\n",
       "      <th>smc</th>\n",
       "      <td>2810</td>\n",
       "      <td>2810</td>\n",
       "      <td>2810</td>\n",
       "      <td>2810</td>\n",
       "      <td>2810</td>\n",
       "      <td>2810</td>\n",
       "      <td>2810</td>\n",
       "      <td>0</td>\n",
       "      <td>0</td>\n",
       "      <td>0</td>\n",
       "      <td>0</td>\n",
       "      <td>0</td>\n",
       "      <td>0</td>\n",
       "      <td>0</td>\n",
       "      <td>0</td>\n",
       "      <td>0</td>\n",
       "      <td>0</td>\n",
       "      <td>0</td>\n",
       "      <td>0</td>\n",
       "      <td>0</td>\n",
       "    </tr>\n",
       "  </tbody>\n",
       "</table>\n",
       "</div>"
      ],
      "text/plain": [
       "          ID     RA    DEC  types  database  Subtype    per      l      b  \\\n",
       "field                                                                       \n",
       "blg    16812  16812  16812  16812     16812    16812  16812  16812  16812   \n",
       "gd      7747   7747   7747   7747      7747     7747   7747   7747   7747   \n",
       "lmc    18044  18044  18044  18044     18044    18044  18044   2788   2788   \n",
       "smc     2810   2810   2810   2810      2810     2810   2810      0      0   \n",
       "\n",
       "       error  obs_total  numero_nans  e_mayor0.075  eyected_sigma  \\\n",
       "field                                                               \n",
       "blg    16812      16812        16812         16812          16812   \n",
       "gd      7747       7747         7747          7747           7747   \n",
       "lmc     2788       2788         2788          2788           2788   \n",
       "smc        0          0            0             0              0   \n",
       "\n",
       "       numero_final  amplitud  mag_mean  mag_median  err_mean  err_median  \n",
       "field                                                                      \n",
       "blg           16812     16810     16810       16810     16810       16810  \n",
       "gd             7747      7747      7747        7747      7747        7747  \n",
       "lmc            2788      2087      2087        2087      2087        2087  \n",
       "smc               0         0         0           0         0           0  "
      ]
     },
     "execution_count": 68,
     "metadata": {},
     "output_type": "execute_result"
    }
   ],
   "source": [
    "catalog.loc[catalog[\"types\"]==\"dsct\"].groupby(\"field\").count()"
   ]
  },
  {
   "cell_type": "code",
   "execution_count": 69,
   "id": "e424b6c4",
   "metadata": {},
   "outputs": [],
   "source": [
    "catalog.to_csv(f\"{path}catalogos/0_catalogo.csv\",index=False)"
   ]
  }
 ],
 "metadata": {
  "kernelspec": {
   "display_name": "Python 3 (ipykernel)",
   "language": "python",
   "name": "python3"
  },
  "language_info": {
   "codemirror_mode": {
    "name": "ipython",
    "version": 3
   },
   "file_extension": ".py",
   "mimetype": "text/x-python",
   "name": "python",
   "nbconvert_exporter": "python",
   "pygments_lexer": "ipython3",
   "version": "3.8.18"
  }
 },
 "nbformat": 4,
 "nbformat_minor": 5
}
