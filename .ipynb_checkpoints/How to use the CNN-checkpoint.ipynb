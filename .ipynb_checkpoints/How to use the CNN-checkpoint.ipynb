{
 "cells": [
  {
   "cell_type": "code",
   "execution_count": 1,
   "id": "8649bfcd",
   "metadata": {},
   "outputs": [
    {
     "name": "stdout",
     "output_type": "stream",
     "text": [
      "INFO: Pandarallel will run on 24 workers.\n",
      "INFO: Pandarallel will use Memory file system to transfer data between the main process and workers.\n"
     ]
    }
   ],
   "source": [
    "from CNN_2dhist_function import *"
   ]
  },
  {
   "cell_type": "code",
   "execution_count": 4,
   "id": "730e143d",
   "metadata": {},
   "outputs": [
    {
     "data": {
      "image/png": "[encoded data removed]",
      "text/plain": [
       "<Figure size 700x100 with 1 Axes>"
      ]
     },
     "metadata": {},
     "output_type": "display_data"
    }
   ],
   "source": [
    "# Establecer la semilla para TensorFlow\n",
    "tf.random.set_seed(42)\n",
    "\n",
    "# Obtén el número de CPUs\n",
    "num_cpus = psutil.cpu_count(logical=False)\n",
    "\n",
    "path_data = \"/home/nicolas/nico/Data/data_Paper_OGLE/\"\n",
    "\n",
    "datos = f\"{path_data}Data/datos_ogle/datos\"\n",
    "\n",
    "path_datos_4 = datos + \"/datos_ogle_4/I\"\n",
    "\n",
    "path_datos_3 = datos + \"/datos_ogle_3/I\"\n",
    "path_datos = [\"_\",\"_\",\"_\",path_datos_3,path_datos_4]\n",
    "\n",
    "rng = np.random.default_rng(42)\n",
    "\n",
    "gyr = [\"#ffa600\",\n",
    "        '#003f5c',\n",
    "       \"#58508d\",\n",
    "       \"#ff6361\",\n",
    "       \"#ffd380\",\n",
    "       \"#bc5090\",\n",
    "       \"#129675\"\n",
    "      ]\n",
    "palet = sns.palplot(sns.color_palette(gyr))\n",
    "sns.set_context(\"paper\")\n",
    "path = \"/home/nicolas/nico/Data/data_Paper_OGLE/7_01_2024/\""
   ]
  },
  {
   "cell_type": "markdown",
   "id": "19e07870",
   "metadata": {},
   "source": [
    "## Using 2d Histograms"
   ]
  },
  {
   "cell_type": "code",
   "execution_count": 7,
   "id": "81824bfb",
   "metadata": {},
   "outputs": [],
   "source": [
    "data = h5py.File(f\"{path}Data.hdf5\", 'r+')\n",
    "df_8mil = pd.read_csv(f\"{path}prueba_8mil.csv\")\n"
   ]
  },
  {
   "cell_type": "code",
   "execution_count": 23,
   "id": "5682f626",
   "metadata": {},
   "outputs": [],
   "source": [
    "class_names = ['ELL', 'M', 'CEP', 'DST', 'E', 'LPV', 'RR']"
   ]
  },
  {
   "cell_type": "code",
   "execution_count": 29,
   "id": "2f8aec38",
   "metadata": {},
   "outputs": [],
   "source": [
    "idx = 20000"
   ]
  },
  {
   "cell_type": "code",
   "execution_count": 30,
   "id": "63246bd5",
   "metadata": {},
   "outputs": [
    {
     "data": {
      "text/plain": [
       "Text(0.5, 1.0, 'ELL')"
      ]
     },
     "execution_count": 30,
     "metadata": {},
     "output_type": "execute_result"
    },
    {
     "data": {
      "image/png": "[encoded data removed]",
      "text/plain": [
       "<Figure size 640x480 with 1 Axes>"
      ]
     },
     "metadata": {},
     "output_type": "display_data"
    }
   ],
   "source": [
    "plt.imshow(data[\"Number_CEP_data\"][idx])\n",
    "plt.title(class_names[data[\"Number_CEP_label\"][idx]])"
   ]
  },
  {
   "cell_type": "code",
   "execution_count": 32,
   "id": "ca053dd0",
   "metadata": {},
   "outputs": [
    {
     "data": {
      "text/plain": [
       "<tensorflow.python.training.tracking.util.CheckpointLoadStatus at 0x7694740a9b80>"
      ]
     },
     "execution_count": 32,
     "metadata": {},
     "output_type": "execute_result"
    }
   ],
   "source": [
    "model_softmax = make_model()\n",
    "model_softmax.load_weights(f\"{path}{test}/cp.ckpt\")"
   ]
  },
  {
   "cell_type": "code",
   "execution_count": 37,
   "id": "9ff13960",
   "metadata": {},
   "outputs": [
    {
     "name": "stdout",
     "output_type": "stream",
     "text": [
      "WARNING:tensorflow:Keras is training/fitting/evaluating on array-like data. Keras may not be optimized for this format, so if your input data format is supported by TensorFlow I/O (https://github.com/tensorflow/io) we recommend using that to load a Dataset instead.\n"
     ]
    }
   ],
   "source": [
    "predict_results = model_softmax.predict(data[\"Number_CEP_data\"])\n",
    "predict_results = pd.DataFrame(predict_results,columns=class_names+[\"Rndm\"])"
   ]
  },
  {
   "cell_type": "code",
   "execution_count": 49,
   "id": "6e01e9c0",
   "metadata": {},
   "outputs": [
    {
     "data": {
      "text/plain": [
       "ELL     9.847329e-01\n",
       "M       8.979678e-10\n",
       "CEP     7.244589e-08\n",
       "DST     7.063861e-08\n",
       "E       1.526647e-02\n",
       "LPV     1.722050e-07\n",
       "RR      4.100109e-09\n",
       "Rndm    2.179499e-07\n",
       "Name: 20000, dtype: float32"
      ]
     },
     "execution_count": 49,
     "metadata": {},
     "output_type": "execute_result"
    }
   ],
   "source": [
    "predict_results.iloc[idx]"
   ]
  }
 ],
 "metadata": {
  "kernelspec": {
   "display_name": "Python 3 (ipykernel)",
   "language": "python",
   "name": "python3"
  },
  "language_info": {
   "codemirror_mode": {
    "name": "ipython",
    "version": 3
   },
   "file_extension": ".py",
   "mimetype": "text/x-python",
   "name": "python",
   "nbconvert_exporter": "python",
   "pygments_lexer": "ipython3",
   "version": "3.8.18"
  }
 },
 "nbformat": 4,
 "nbformat_minor": 5
}
